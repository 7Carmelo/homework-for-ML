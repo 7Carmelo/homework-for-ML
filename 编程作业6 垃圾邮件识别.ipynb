{
 "cells": [
  {
   "cell_type": "code",
   "execution_count": 15,
   "id": "8a3c7e1b-9686-4fb2-bb83-2145531624d9",
   "metadata": {},
   "outputs": [],
   "source": [
    "import numpy as np\n",
    "import matplotlib.pyplot as plt\n",
    "import scipy.io as sio\n",
    "from sklearn.svm import SVC"
   ]
  },
  {
   "cell_type": "code",
   "execution_count": 17,
   "id": "c451985f-6ca2-45ac-bc50-45df9226fe8d",
   "metadata": {},
   "outputs": [],
   "source": [
    "data1 = sio.loadmat('C:\\\\Users\\\\Administrator\\\\Desktop\\\\spamTrain.mat')\n",
    "data2 = sio.loadmat('C:\\\\Users\\\\Administrator\\\\Desktop\\\\spamTest.mat')\n",
    "x,y = data1['X'],data1['y']\n",
    "xtest,ytest = data2['Xtest'],data2['ytest']"
   ]
  },
  {
   "cell_type": "code",
   "execution_count": 30,
   "id": "d72cc135-256f-4854-88ed-790555848a78",
   "metadata": {},
   "outputs": [
    {
     "name": "stdout",
     "output_type": "stream",
     "text": [
      "0.99 0.03\n"
     ]
    }
   ],
   "source": [
    "Cvalues = [3,10,30,100,0.01,0.03,0.1,0.3,1]\n",
    "best_C = 0\n",
    "best_score = 0\n",
    "for c in Cvalues:\n",
    "        svc = SVC(C=c,kernel='linear')\n",
    "        svc.fit(x,y.flatten())\n",
    "        score = svc.score(xtest,ytest.flatten())\n",
    "        if score > best_score:\n",
    "            best_score = score\n",
    "            best_C = c\n",
    "\n",
    "print(best_score,best_C)"
   ]
  },
  {
   "cell_type": "code",
   "execution_count": 34,
   "id": "17887205-22b9-4ceb-8ad6-171d1801a3e5",
   "metadata": {},
   "outputs": [
    {
     "data": {
      "text/plain": [
       "0.996"
      ]
     },
     "execution_count": 34,
     "metadata": {},
     "output_type": "execute_result"
    }
   ],
   "source": [
    "svc = SVC(C=0.03,kernel='linear')\n",
    "svc.fit(xtest,ytest.flatten())\n",
    "svc.predict(xtest)\n",
    "svc.score(xtest,ytest.flatten())"
   ]
  },
  {
   "cell_type": "code",
   "execution_count": null,
   "id": "e008f109-cb97-4578-bd21-4b18f9ef15bb",
   "metadata": {},
   "outputs": [],
   "source": []
  }
 ],
 "metadata": {
  "kernelspec": {
   "display_name": "Python 3 (ipykernel)",
   "language": "python",
   "name": "python3"
  },
  "language_info": {
   "codemirror_mode": {
    "name": "ipython",
    "version": 3
   },
   "file_extension": ".py",
   "mimetype": "text/x-python",
   "name": "python",
   "nbconvert_exporter": "python",
   "pygments_lexer": "ipython3",
   "version": "3.12.4"
  }
 },
 "nbformat": 4,
 "nbformat_minor": 5
}
