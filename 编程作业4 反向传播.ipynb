{
 "cells": [
  {
   "cell_type": "markdown",
   "id": "1dff80cc-24ba-4e78-a798-f2cf86bca072",
   "metadata": {},
   "source": [
    "载入数据集"
   ]
  },
  {
   "cell_type": "code",
   "execution_count": 88,
   "id": "bb80f867-9f3d-4b92-9dda-35b461294f77",
   "metadata": {},
   "outputs": [],
   "source": [
    "import numpy as np\n",
    "import scipy.io as sio\n",
    "import matplotlib.pyplot as plt\n",
    "from scipy.optimize import minimize"
   ]
  },
  {
   "cell_type": "code",
   "execution_count": 90,
   "id": "b91917d5-42a9-442e-8b90-310bbee70233",
   "metadata": {},
   "outputs": [],
   "source": [
    "data = sio.loadmat('C:\\\\Users\\\\Administrator\\\\Desktop\\\\ex4data1.mat')\n",
    "raw_X = data['X']\n",
    "raw_y = data['y']"
   ]
  },
  {
   "cell_type": "code",
   "execution_count": 92,
   "id": "1c55491b-78e5-4128-ab79-31119a75ce61",
   "metadata": {},
   "outputs": [
    {
     "data": {
      "text/plain": [
       "(5000, 401)"
      ]
     },
     "execution_count": 92,
     "metadata": {},
     "output_type": "execute_result"
    }
   ],
   "source": [
    "X = np.insert(raw_X,0,values=1,axis=1)\n",
    "X.shape"
   ]
  },
  {
   "cell_type": "markdown",
   "id": "0715cc59-7f96-4f15-87bc-fb5934b26a57",
   "metadata": {},
   "source": [
    "1.将标签转化为onehot编码格式"
   ]
  },
  {
   "cell_type": "code",
   "execution_count": 95,
   "id": "d735bdbe-5244-4d1d-90d8-11e2538ef90d",
   "metadata": {},
   "outputs": [],
   "source": [
    "def one_hot_encoder(y):\n",
    "    result = []\n",
    "    for i in y:\n",
    "        y_temp = np.zeros(10)\n",
    "        y_temp[i-1] = 1\n",
    "        result.append(y_temp)\n",
    "    return np.array(result)"
   ]
  },
  {
   "cell_type": "code",
   "execution_count": 97,
   "id": "4ccf50c5-7501-4560-80e5-a303c5378695",
   "metadata": {},
   "outputs": [
    {
     "data": {
      "text/plain": [
       "(5000, 10)"
      ]
     },
     "execution_count": 97,
     "metadata": {},
     "output_type": "execute_result"
    }
   ],
   "source": [
    "y = one_hot_encoder(raw_y)\n",
    "y.shape"
   ]
  },
  {
   "cell_type": "markdown",
   "id": "10bcf97a-d385-4d72-8d2f-92ce90a14d4f",
   "metadata": {},
   "source": [
    "2.序列化权重参数"
   ]
  },
  {
   "cell_type": "code",
   "execution_count": 100,
   "id": "69d34c6a-f63f-4186-a474-d50b4e7438c7",
   "metadata": {},
   "outputs": [
    {
     "data": {
      "text/plain": [
       "((25, 401), (10, 26))"
      ]
     },
     "execution_count": 100,
     "metadata": {},
     "output_type": "execute_result"
    }
   ],
   "source": [
    "# 序列化是为了传入调用scipy函数库方便，解序列化是为了后续矩阵运算维度保持一致\n",
    "# 因为minimize优化器的x0初始化参数输入要求是序列化后（只有一列）\n",
    "# 序列化和反序列化的目的其实是为了方便地把数据保存到本地（即序列化），以及把保存的数据再次读取出来（即反序列化）\n",
    "theta = sio.loadmat('C:\\\\Users\\\\Administrator\\\\Desktop\\\\ex4weights.mat')\n",
    "theta1,theta2 = theta['Theta1'],theta['Theta2']\n",
    "theta1.shape,theta2.shape"
   ]
  },
  {
   "cell_type": "code",
   "execution_count": 102,
   "id": "ed7d5932-a406-4caa-b0fb-333e11acfbd9",
   "metadata": {},
   "outputs": [],
   "source": [
    "def serialize(a,b):\n",
    "    return np.append(a.flatten(),b.flatten())"
   ]
  },
  {
   "cell_type": "code",
   "execution_count": 104,
   "id": "88f11fa8-7aae-4d41-8234-5806e7acca4a",
   "metadata": {},
   "outputs": [],
   "source": [
    "theta_serialize = serialize(theta1,theta2)"
   ]
  },
  {
   "cell_type": "code",
   "execution_count": 106,
   "id": "b12c2c0c-bd1c-4dd5-8007-d165d4601720",
   "metadata": {},
   "outputs": [
    {
     "data": {
      "text/plain": [
       "(10285,)"
      ]
     },
     "execution_count": 106,
     "metadata": {},
     "output_type": "execute_result"
    }
   ],
   "source": [
    "theta_serialize.shape"
   ]
  },
  {
   "cell_type": "markdown",
   "id": "88ae14c2-7442-43a3-9a98-531c574a5702",
   "metadata": {},
   "source": [
    "3.解序列化"
   ]
  },
  {
   "cell_type": "code",
   "execution_count": 109,
   "id": "1d6650de-23b4-4b1c-b506-401b87d6806d",
   "metadata": {},
   "outputs": [],
   "source": [
    "def de_serialize(c):\n",
    "    theta1 = c[:25*401].reshape(25,401)\n",
    "    theta2 = c[25*401:].reshape(10,26)\n",
    "    return theta1,theta2"
   ]
  },
  {
   "cell_type": "code",
   "execution_count": 111,
   "id": "7cff8345-a819-45e5-a4fe-5944cd29b649",
   "metadata": {},
   "outputs": [
    {
     "data": {
      "text/plain": [
       "((25, 401), (10, 26))"
      ]
     },
     "execution_count": 111,
     "metadata": {},
     "output_type": "execute_result"
    }
   ],
   "source": [
    "theta1,theta2 = de_serialize(theta_serialize)\n",
    "theta1.shape,theta2.shape"
   ]
  },
  {
   "cell_type": "markdown",
   "id": "40b8ce8d-1e53-4b63-887a-ea1a00813ba9",
   "metadata": {},
   "source": [
    "4.前向传播"
   ]
  },
  {
   "cell_type": "code",
   "execution_count": 114,
   "id": "c781d112-da44-4b04-b21d-10bae3199a37",
   "metadata": {},
   "outputs": [],
   "source": [
    "def sigmoid(z):\n",
    "    return 1/(1+np.exp(-z))"
   ]
  },
  {
   "cell_type": "code",
   "execution_count": 116,
   "id": "533247c8-2593-455f-94a5-6b2fae18c075",
   "metadata": {},
   "outputs": [],
   "source": [
    "def feed_forward(theta_serialize,X):\n",
    "    a1 = X\n",
    "    theta1,theta2 = de_serialize(theta_serialize)\n",
    "    z1 = a1 @ theta1.T\n",
    "    a2 = sigmoid(z1)\n",
    "    a2 = np.insert(a2,0,values=1,axis=1)\n",
    "    z2 = a2 @ theta2.T\n",
    "    h =sigmoid(z2)\n",
    "    return a1,z1,a2,z2,h"
   ]
  },
  {
   "cell_type": "markdown",
   "id": "343a9528-5fa3-44de-b244-1712eb4c7b13",
   "metadata": {},
   "source": [
    "5.损失函数(不带正则化项)"
   ]
  },
  {
   "cell_type": "code",
   "execution_count": 119,
   "id": "ed039cac-de0b-4ac6-afaf-c5acbb77a048",
   "metadata": {},
   "outputs": [],
   "source": [
    "def costFunction(theta,X,y):\n",
    "    a1,z1,a2,z2,h = feed_forward(theta,X)\n",
    "    cost = -np.sum(y*np.log(h) + (1-y)*np.log(1-h)) / len(X)\n",
    "    return cost "
   ]
  },
  {
   "cell_type": "markdown",
   "id": "f280965b-27d7-41cd-96b1-8a5e7d215846",
   "metadata": {},
   "source": [
    "5.损失函数（带正则化项）"
   ]
  },
  {
   "cell_type": "code",
   "execution_count": 122,
   "id": "083182d3-30d2-4bc6-82bd-b85ed4cb5f79",
   "metadata": {},
   "outputs": [],
   "source": [
    "def costFunction2(theta,X,y,lamda):\n",
    "    sum1 = np.sum(np.power(theta1[:,1:],2))\n",
    "    sum2 = np.sum(np.power(theta2[:,1:],2))\n",
    "    reg = (sum1+sum2) * lamda / (2*len(X))\n",
    "    return reg + costFunction(theta,X,y)"
   ]
  },
  {
   "cell_type": "code",
   "execution_count": 124,
   "id": "cd23933c-8ca9-4ea8-930a-45e7827e5d08",
   "metadata": {},
   "outputs": [
    {
     "data": {
      "text/plain": [
       "(0.2876291651613189, 0.38376985909092365)"
      ]
     },
     "execution_count": 124,
     "metadata": {},
     "output_type": "execute_result"
    }
   ],
   "source": [
    "cost = costFunction(theta_serialize,X,y)\n",
    "lamda = 1\n",
    "cost2 = costFunction2(theta_serialize,X,y,lamda)\n",
    "cost,cost2"
   ]
  },
  {
   "cell_type": "markdown",
   "id": "ad6c10a5-da44-4fc8-aa42-1c21004feca0",
   "metadata": {},
   "source": [
    "6.梯度（无正则化）"
   ]
  },
  {
   "cell_type": "code",
   "execution_count": 127,
   "id": "89ec44d3-0ffe-4078-a4bf-63f1d752ca72",
   "metadata": {},
   "outputs": [],
   "source": [
    "def sigmoid_gradient(z):\n",
    "    return sigmoid(z) * (1-sigmoid(z))"
   ]
  },
  {
   "cell_type": "code",
   "execution_count": 135,
   "id": "d0b7d6bb-be5d-4804-931d-fd6df6062b39",
   "metadata": {},
   "outputs": [],
   "source": [
    "def gradient(theta,X,y):\n",
    "    theta1,theat2 = de_serialize(theta)\n",
    "    a1,z1,a2,z2,h = feed_forward(theta,X)\n",
    "    d2 = h - y\n",
    "    d1 = d2 @ theta2[:,1:] * sigmoid_gradient(z1)\n",
    "    D2 = (d2.T @ a2) / len(X)\n",
    "    D1 = (d1.T @ a1) / len(X)\n",
    "    return serialize(D1,D2)"
   ]
  },
  {
   "cell_type": "markdown",
   "id": "1890659a-6bf3-4257-9132-9dd9f0e7d835",
   "metadata": {},
   "source": [
    "6.梯度（正则化）"
   ]
  },
  {
   "cell_type": "code",
   "execution_count": 138,
   "id": "2d711f83-e6df-4649-9659-5a504b87f557",
   "metadata": {},
   "outputs": [],
   "source": [
    "def gradient2(theta,X,y,lamda):\n",
    "    D = gradient(theta,X,y)\n",
    "    D1,D2 = de_serialize(D)\n",
    "    theta1,theta2 = de_serialize(theta)\n",
    "    D1[:,1:] = D1[:,1:] + theta1[:,1:] * lamda / len(X) \n",
    "    D2[:,1:] = D2[:,1:] + theta2[:,1:] * lamda / len(X) \n",
    "    return serialize(D1,D2)"
   ]
  },
  {
   "cell_type": "markdown",
   "id": "89f8843c-5cb3-47a2-917f-67256a0a0ef0",
   "metadata": {},
   "source": [
    "7.优化"
   ]
  },
  {
   "cell_type": "code",
   "execution_count": 149,
   "id": "deea667e-f821-4812-ae53-bdd63faf3858",
   "metadata": {},
   "outputs": [
    {
     "name": "stderr",
     "output_type": "stream",
     "text": [
      "C:\\Users\\Administrator\\AppData\\Local\\Temp\\ipykernel_12060\\3581234255.py:5: OptimizeWarning: Unknown solver options: maxiter\n",
      "  res = minimize(fun=costFunction2,  # `fun` 参数传递的是损失函数\n"
     ]
    },
    {
     "name": "stdout",
     "output_type": "stream",
     "text": [
      "0.9474\n"
     ]
    }
   ],
   "source": [
    "def nn_training(X,y):\n",
    "    # 随机初始化的权重参数 `init_theta` 作为神经网络的初始值\n",
    "    init_theta = np.random.uniform(-0.5, 0.5, 10285)\n",
    "    # 调用 Scipy 的 `minimize()` 函数，利用 TNC 方法来进行神经网络的训练\n",
    "    res = minimize(fun=costFunction2,  # `fun` 参数传递的是损失函数\n",
    "                   x0=init_theta,  # `x0` 参数传递的是神经网络的初始权重参数\n",
    "                   # `args` 参数传递的是需要传递给损失函数的其他参数 此处为数据集 `X` 和标签集 `y`，同时还有一个正则化参数 `lamda`\n",
    "                   args=(X, y, lamda),\n",
    "                   method='TNC',\n",
    "                   jac=gradient2,  # `jac` 参数传递的是损失函数的梯度函数，用于计算权重参数的调整值\n",
    "                   options={'maxiter': 300}  # `options` 参数中设置了最大迭代次数为 300\n",
    "                   )\n",
    "    return res\n",
    "\n",
    "# 测试\n",
    "lamda = 10\n",
    "res = nn_training(X, y)\n",
    "raw_y = data['y'].reshape(5000, )\n",
    "_, _, _, _, h = feed_forward(res.x, X)\n",
    "y_pred = np.argmax(h,axis=1)+1\n",
    "acc = np.mean(y_pred==raw_y)\n",
    "print(acc)"
   ]
  },
  {
   "cell_type": "code",
   "execution_count": null,
   "id": "12ae9409-c83b-4602-ba10-dd16b8e848e2",
   "metadata": {},
   "outputs": [],
   "source": []
  },
  {
   "cell_type": "code",
   "execution_count": null,
   "id": "dd969c57-aa4d-4284-8e46-cde52b46052d",
   "metadata": {},
   "outputs": [],
   "source": []
  }
 ],
 "metadata": {
  "kernelspec": {
   "display_name": "Python 3 (ipykernel)",
   "language": "python",
   "name": "python3"
  },
  "language_info": {
   "codemirror_mode": {
    "name": "ipython",
    "version": 3
   },
   "file_extension": ".py",
   "mimetype": "text/x-python",
   "name": "python",
   "nbconvert_exporter": "python",
   "pygments_lexer": "ipython3",
   "version": "3.12.4"
  }
 },
 "nbformat": 4,
 "nbformat_minor": 5
}
